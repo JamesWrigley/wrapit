{
 "cells": [
  {
   "cell_type": "markdown",
   "id": "161d5544",
   "metadata": {},
   "source": [
    "# Hello example"
   ]
  },
  {
   "cell_type": "markdown",
   "id": "7fcbc6ad",
   "metadata": {},
   "source": [
    "#### Generate the code and build the library"
   ]
  },
  {
   "cell_type": "code",
   "execution_count": 1,
   "id": "e0cfd5ca",
   "metadata": {},
   "outputs": [
    {
     "name": "stdout",
     "output_type": "stream",
     "text": [
      "g++  -I'/opt/julia-1.7.1/include/julia' -fPIC -Wall -O0 -g\t -Wno-unused-variable -Wno-unused-but-set-variable -fmax-errors=3 -MMD  -c -I /home/pgras/.julia/artifacts/d295432aa655ccc63aed63baff12b7a5c26bd671/include -std=c++17 -o jlHello.o jlHello.cxx\n",
      "g++ -L'/opt/julia-1.7.1/lib' -Wl,--export-dynamic  -o jlHello.so --shared -fPIC jlHello.o \n"
     ]
    }
   ],
   "source": [
    "run(`make all`);"
   ]
  },
  {
   "cell_type": "markdown",
   "id": "3aac13a5",
   "metadata": {},
   "source": [
    "💡 The above command runs WrapIt! to generate the c++ code with the command:\n",
    "```\n",
    "wrapit hello.wit\n",
    "```\n",
    "and then it builds the shared library from the generated `jlHello.cxx` file."
   ]
  },
  {
   "cell_type": "markdown",
   "id": "8c4b3add",
   "metadata": {},
   "source": [
    "####   Add the current directory in the load paths\n",
    "\n",
    "This step is not necessary if the `setup.(c)sh` was sourced before starting `Jupyter`."
   ]
  },
  {
   "cell_type": "code",
   "execution_count": 5,
   "id": "ab2a21b2",
   "metadata": {},
   "outputs": [],
   "source": [
    "\".\" in LOAD_PATH || push!(LOAD_PATH, \".\")\n",
    "\".\" in Base.DL_LOAD_PATH || push!(Base.DL_LOAD_PATH, \".\");"
   ]
  },
  {
   "cell_type": "markdown",
   "id": "125c8597",
   "metadata": {},
   "source": [
    "#### Import the library"
   ]
  },
  {
   "cell_type": "code",
   "execution_count": 2,
   "id": "c91d7ca8",
   "metadata": {},
   "outputs": [
    {
     "name": "stderr",
     "output_type": "stream",
     "text": [
      "┌ Info: Precompiling Hello [top-level]\n",
      "└ @ Base loading.jl:1423\n"
     ]
    }
   ],
   "source": [
    "using Hello"
   ]
  },
  {
   "cell_type": "markdown",
   "id": "2010fd01",
   "metadata": {},
   "source": [
    "#### Create an instance of the class A\n",
    "\n",
    "By default, only non-static class methods are exported, see the `export` option. We need to specify the package to access the types, for methods we can omit it."
   ]
  },
  {
   "cell_type": "code",
   "execution_count": 3,
   "id": "b9f075ad",
   "metadata": {},
   "outputs": [
    {
     "data": {
      "text/plain": [
       "Hello.AAllocated(Ptr{Nothing} @0x000000000382fe30)"
      ]
     },
     "execution_count": 3,
     "metadata": {},
     "output_type": "execute_result"
    }
   ],
   "source": [
    "a = Hello.A(\"World\")"
   ]
  },
  {
   "cell_type": "markdown",
   "id": "8dd85721",
   "metadata": {},
   "source": [
    "#### Execute the class A member function"
   ]
  },
  {
   "cell_type": "code",
   "execution_count": 4,
   "id": "f1475415",
   "metadata": {},
   "outputs": [
    {
     "name": "stdout",
     "output_type": "stream",
     "text": [
      "Hello World!\n"
     ]
    }
   ],
   "source": [
    "say_hello(a)"
   ]
  },
  {
   "cell_type": "code",
   "execution_count": null,
   "id": "63704408",
   "metadata": {},
   "outputs": [],
   "source": []
  }
 ],
 "metadata": {
  "kernelspec": {
   "display_name": "Julia 1.7.1",
   "language": "julia",
   "name": "julia-1.7"
  },
  "language_info": {
   "file_extension": ".jl",
   "mimetype": "application/julia",
   "name": "julia",
   "version": "1.7.1"
  }
 },
 "nbformat": 4,
 "nbformat_minor": 5
}
